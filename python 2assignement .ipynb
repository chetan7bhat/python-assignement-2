{
 "cells": [
  {
   "cell_type": "code",
   "execution_count": 2,
   "id": "9826e143",
   "metadata": {},
   "outputs": [
    {
     "name": "stdout",
     "output_type": "stream",
     "text": [
      "enter the number of rows =8\n",
      "\n",
      "\n",
      "*\n",
      "\n",
      "**\n",
      "\n",
      "***\n",
      "\n",
      "****\n",
      "\n",
      "*****\n",
      "\n",
      "******\n",
      "\n",
      "*******\n",
      "\n",
      "********\n",
      "\n",
      "*******\n",
      "\n",
      "******\n",
      "\n",
      "*****\n",
      "\n",
      "****\n",
      "\n",
      "***\n",
      "\n",
      "**\n",
      "\n",
      "*\n",
      "\n"
     ]
    }
   ],
   "source": [
    "#Create the below pattern using nested for loop in Python.\n",
    "r=int(input(\"enter the number of rows =\"))\n",
    "for i in range(0,r):\n",
    "    for j in range(0, i):\n",
    "        print(\"*\", end=\"\")\n",
    "    print(\"\\n\")\n",
    "for i in range(r,0,-1):\n",
    "    for j in range(0, i):\n",
    "        print(\"*\", end=\"\")\n",
    "    print(\"\\n\")"
   ]
  },
  {
   "cell_type": "code",
   "execution_count": 3,
   "id": "91f14ad8",
   "metadata": {},
   "outputs": [
    {
     "name": "stdout",
     "output_type": "stream",
     "text": [
      "enter the name ineuron \n",
      "ineuron \n",
      " norueni\n"
     ]
    }
   ],
   "source": [
    "#Write a Python program to reverse a word after accepting the input from the user.\n",
    "a=input(\"enter the name \")\n",
    "print(a)\n",
    "b=a[::-1]\n",
    "print(b)"
   ]
  },
  {
   "cell_type": "code",
   "execution_count": null,
   "id": "0aee05b0",
   "metadata": {},
   "outputs": [],
   "source": []
  }
 ],
 "metadata": {
  "kernelspec": {
   "display_name": "Python 3",
   "language": "python",
   "name": "python3"
  },
  "language_info": {
   "codemirror_mode": {
    "name": "ipython",
    "version": 3
   },
   "file_extension": ".py",
   "mimetype": "text/x-python",
   "name": "python",
   "nbconvert_exporter": "python",
   "pygments_lexer": "ipython3",
   "version": "3.8.8"
  }
 },
 "nbformat": 4,
 "nbformat_minor": 5
}
